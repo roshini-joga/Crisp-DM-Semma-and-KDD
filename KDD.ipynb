{
  "nbformat": 4,
  "nbformat_minor": 0,
  "metadata": {
    "colab": {
      "provenance": []
    },
    "kernelspec": {
      "name": "python3",
      "display_name": "Python 3"
    },
    "language_info": {
      "name": "python"
    }
  },
  "cells": [
    {
      "cell_type": "code",
      "execution_count": 4,
      "metadata": {
        "colab": {
          "base_uri": "https://localhost:8080/",
          "height": 458
        },
        "id": "YZZzFhcD8fG7",
        "outputId": "99d1c4f0-8b8a-46fe-ce8d-e0d6f038ffa3"
      },
      "outputs": [
        {
          "output_type": "execute_result",
          "data": {
            "text/plain": [
              "0      0\n",
              "1      0\n",
              "2      0\n",
              "3      0\n",
              "4      0\n",
              "      ..\n",
              "780    0\n",
              "781    0\n",
              "782    0\n",
              "783    0\n",
              "784    0\n",
              "Length: 785, dtype: int64"
            ],
            "text/html": [
              "<div>\n",
              "<style scoped>\n",
              "    .dataframe tbody tr th:only-of-type {\n",
              "        vertical-align: middle;\n",
              "    }\n",
              "\n",
              "    .dataframe tbody tr th {\n",
              "        vertical-align: top;\n",
              "    }\n",
              "\n",
              "    .dataframe thead th {\n",
              "        text-align: right;\n",
              "    }\n",
              "</style>\n",
              "<table border=\"1\" class=\"dataframe\">\n",
              "  <thead>\n",
              "    <tr style=\"text-align: right;\">\n",
              "      <th></th>\n",
              "      <th>0</th>\n",
              "    </tr>\n",
              "  </thead>\n",
              "  <tbody>\n",
              "    <tr>\n",
              "      <th>0</th>\n",
              "      <td>0</td>\n",
              "    </tr>\n",
              "    <tr>\n",
              "      <th>1</th>\n",
              "      <td>0</td>\n",
              "    </tr>\n",
              "    <tr>\n",
              "      <th>2</th>\n",
              "      <td>0</td>\n",
              "    </tr>\n",
              "    <tr>\n",
              "      <th>3</th>\n",
              "      <td>0</td>\n",
              "    </tr>\n",
              "    <tr>\n",
              "      <th>4</th>\n",
              "      <td>0</td>\n",
              "    </tr>\n",
              "    <tr>\n",
              "      <th>...</th>\n",
              "      <td>...</td>\n",
              "    </tr>\n",
              "    <tr>\n",
              "      <th>780</th>\n",
              "      <td>0</td>\n",
              "    </tr>\n",
              "    <tr>\n",
              "      <th>781</th>\n",
              "      <td>0</td>\n",
              "    </tr>\n",
              "    <tr>\n",
              "      <th>782</th>\n",
              "      <td>0</td>\n",
              "    </tr>\n",
              "    <tr>\n",
              "      <th>783</th>\n",
              "      <td>0</td>\n",
              "    </tr>\n",
              "    <tr>\n",
              "      <th>784</th>\n",
              "      <td>0</td>\n",
              "    </tr>\n",
              "  </tbody>\n",
              "</table>\n",
              "<p>785 rows × 1 columns</p>\n",
              "</div><br><label><b>dtype:</b> int64</label>"
            ]
          },
          "metadata": {},
          "execution_count": 4
        }
      ],
      "source": [
        "import pandas as pd\n",
        "\n",
        "# Load the MNIST dataset\n",
        "df = pd.read_csv('/content/sample_data/mnist_train_small.csv', header=None) # No header in MNIST dataset\n",
        "\n",
        "# Separate features and labels\n",
        "X = df.drop(0, axis=1)  # Features (pixels) - drop the first column (index 0)\n",
        "y = df[0]               # Labels (digit classes) - select the first column (index 0)\n",
        "\n",
        "# Check for missing data\n",
        "df.isnull().sum()  # No missing data in this case"
      ]
    },
    {
      "cell_type": "code",
      "source": [
        "from sklearn.preprocessing import MinMaxScaler\n",
        "\n",
        "# Normalize the pixel values\n",
        "scaler = MinMaxScaler()\n",
        "X_scaled = scaler.fit_transform(X)"
      ],
      "metadata": {
        "id": "zOvIt2WL8qt_"
      },
      "execution_count": 5,
      "outputs": []
    },
    {
      "cell_type": "code",
      "source": [
        "from sklearn.decomposition import PCA\n",
        "\n",
        "# Apply PCA for dimensionality reduction (optional)\n",
        "pca = PCA(n_components=100)  # Reduce dimensions to 100 principal components\n",
        "X_pca = pca.fit_transform(X_scaled)"
      ],
      "metadata": {
        "id": "A8zjAaG08qzr"
      },
      "execution_count": 6,
      "outputs": []
    },
    {
      "cell_type": "code",
      "source": [
        "from sklearn.ensemble import RandomForestClassifier\n",
        "from sklearn.model_selection import train_test_split\n",
        "from sklearn.metrics import accuracy_score\n",
        "\n",
        "# Split the data\n",
        "X_train, X_test, y_train, y_test = train_test_split(X_scaled, y, test_size=0.2, random_state=42)\n",
        "\n",
        "# Train Random Forest\n",
        "model_rf = RandomForestClassifier()\n",
        "model_rf.fit(X_train, y_train)\n",
        "\n",
        "# Make predictions\n",
        "y_pred_rf = model_rf.predict(X_test)\n",
        "\n",
        "# Evaluate accuracy\n",
        "accuracy_rf = accuracy_score(y_test, y_pred_rf)\n",
        "print(f\"Random Forest Accuracy: {accuracy_rf * 100:.2f}%\")\n"
      ],
      "metadata": {
        "colab": {
          "base_uri": "https://localhost:8080/"
        },
        "id": "EOpM-W3J8q2U",
        "outputId": "93337a34-748f-4b14-fa31-74e9df2a926f"
      },
      "execution_count": 7,
      "outputs": [
        {
          "output_type": "stream",
          "name": "stdout",
          "text": [
            "Random Forest Accuracy: 95.20%\n"
          ]
        }
      ]
    },
    {
      "cell_type": "code",
      "source": [
        "from sklearn.neural_network import MLPClassifier\n",
        "\n",
        "# Train Neural Network\n",
        "model_mlp = MLPClassifier(hidden_layer_sizes=(128, 64), max_iter=300)\n",
        "model_mlp.fit(X_train, y_train)\n",
        "\n",
        "# Make predictions\n",
        "y_pred_mlp = model_mlp.predict(X_test)\n",
        "\n",
        "# Evaluate accuracy\n",
        "accuracy_mlp = accuracy_score(y_test, y_pred_mlp)\n",
        "print(f\"Neural Network Accuracy: {accuracy_mlp * 100:.2f}%\")"
      ],
      "metadata": {
        "colab": {
          "base_uri": "https://localhost:8080/"
        },
        "id": "6nR8__0A8q5Y",
        "outputId": "b1d44dd0-0f59-43cc-c2ab-a395b8a4409d"
      },
      "execution_count": 8,
      "outputs": [
        {
          "output_type": "stream",
          "name": "stdout",
          "text": [
            "Neural Network Accuracy: 96.53%\n"
          ]
        }
      ]
    },
    {
      "cell_type": "code",
      "source": [
        "from sklearn.metrics import classification_report, confusion_matrix\n",
        "\n",
        "# Confusion matrix for Random Forest\n",
        "cm_rf = confusion_matrix(y_test, y_pred_rf)\n",
        "print(classification_report(y_test, y_pred_rf))\n",
        "\n",
        "# Confusion matrix for Neural Network\n",
        "cm_mlp = confusion_matrix(y_test, y_pred_mlp)\n",
        "print(classification_report(y_test, y_pred_mlp)) # Added y_pred_mlp as an argument"
      ],
      "metadata": {
        "colab": {
          "base_uri": "https://localhost:8080/"
        },
        "id": "Gsr1TG_B8q8H",
        "outputId": "4e06fc00-87ad-4c9d-9b0f-69c38417c19e"
      },
      "execution_count": 11,
      "outputs": [
        {
          "output_type": "stream",
          "name": "stdout",
          "text": [
            "              precision    recall  f1-score   support\n",
            "\n",
            "           0       0.97      0.98      0.97       409\n",
            "           1       0.98      0.97      0.98       471\n",
            "           2       0.93      0.95      0.94       387\n",
            "           3       0.97      0.94      0.95       425\n",
            "           4       0.94      0.95      0.95       390\n",
            "           5       0.94      0.94      0.94       334\n",
            "           6       0.98      0.98      0.98       401\n",
            "           7       0.95      0.97      0.96       441\n",
            "           8       0.93      0.93      0.93       351\n",
            "           9       0.92      0.90      0.91       391\n",
            "\n",
            "    accuracy                           0.95      4000\n",
            "   macro avg       0.95      0.95      0.95      4000\n",
            "weighted avg       0.95      0.95      0.95      4000\n",
            "\n",
            "              precision    recall  f1-score   support\n",
            "\n",
            "           0       0.98      0.99      0.98       409\n",
            "           1       0.98      0.99      0.98       471\n",
            "           2       0.96      0.94      0.95       387\n",
            "           3       0.98      0.94      0.96       425\n",
            "           4       0.96      0.96      0.96       390\n",
            "           5       0.96      0.96      0.96       334\n",
            "           6       0.98      0.98      0.98       401\n",
            "           7       0.95      0.98      0.96       441\n",
            "           8       0.95      0.95      0.95       351\n",
            "           9       0.96      0.96      0.96       391\n",
            "\n",
            "    accuracy                           0.97      4000\n",
            "   macro avg       0.96      0.96      0.96      4000\n",
            "weighted avg       0.97      0.97      0.97      4000\n",
            "\n"
          ]
        }
      ]
    },
    {
      "cell_type": "markdown",
      "source": [],
      "metadata": {
        "id": "u_XQBDxT87z6"
      }
    }
  ]
}